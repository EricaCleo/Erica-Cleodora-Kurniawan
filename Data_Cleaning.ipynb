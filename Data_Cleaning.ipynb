{
  "nbformat": 4,
  "nbformat_minor": 0,
  "metadata": {
    "colab": {
      "provenance": []
    },
    "kernelspec": {
      "name": "python3",
      "display_name": "Python 3"
    },
    "language_info": {
      "name": "python"
    }
  },
  "cells": [
    {
      "cell_type": "code",
      "source": [
        "import pandas as pd\n",
        "\n",
        "# Create a dictionary of data\n",
        "data = {'Year': [2010,2011,2012,2013,2014,2015],\n",
        "        'External_term_Debt': [5944744526,5887842505,6942115606,6924480066,6861844491,6476660913],\n",
        "        'Agriculture_Raw_Materials': [0.8179284729,0.7153991767,0.6408769733,0.8889516269,1.371524239,0.9042025599],\n",
        "        'Export_GoodServices': [9325006299,10437325128,9414795929,9592171961,9457561767,1889969323],\n",
        "        'GDP': [124906,215985,\t214847,\t218862,\t212394\t,148842],\n",
        "        'Urban_Population': [7862636,8244926,8642705,9055561,9481916,9917199],\n",
        "        'Rural_Population': [16881310,17230684,17580686,17928441,18271388,18599346],\n",
        "        'Net_Primary': [-1818983765,-2337424542,-1481364841,-1694212045,-1733990478,-545278451]\n",
        "        }\n",
        "\n",
        "\n",
        "# Create a data frame from the dictionary\n",
        "df = pd.DataFrame(data)\n",
        "\n",
        "# Display the data frame\n",
        "print(df)\n",
        "df.to_csv('primary_data.csv', index=False)\n",
        "\n",
        "\n",
        "\n",
        "\n"
      ],
      "metadata": {
        "colab": {
          "base_uri": "https://localhost:8080/"
        },
        "id": "U7MaMelUkqGj",
        "outputId": "f68411d2-a2cf-439d-e1e9-6987a4286dd5"
      },
      "execution_count": 2,
      "outputs": [
        {
          "output_type": "stream",
          "name": "stdout",
          "text": [
            "   Year  External_term_Debt  Agriculture_Raw_Materials  Export_GoodServices  \\\n",
            "0  2010          5944744526                   0.817928           9325006299   \n",
            "1  2011          5887842505                   0.715399          10437325128   \n",
            "2  2012          6942115606                   0.640877           9414795929   \n",
            "3  2013          6924480066                   0.888952           9592171961   \n",
            "4  2014          6861844491                   1.371524           9457561767   \n",
            "5  2015          6476660913                   0.904203           1889969323   \n",
            "\n",
            "      GDP  Urban_Population  Rural_Population  Net_Primary  \n",
            "0  124906           7862636          16881310  -1818983765  \n",
            "1  215985           8244926          17230684  -2337424542  \n",
            "2  214847           8642705          17580686  -1481364841  \n",
            "3  218862           9055561          17928441  -1694212045  \n",
            "4  212394           9481916          18271388  -1733990478  \n",
            "5  148842           9917199          18599346   -545278451  \n"
          ]
        }
      ]
    },
    {
      "cell_type": "code",
      "source": [
        "import pandas as pd\n",
        "\n",
        "# Create a dictionary of data\n",
        "data_1 = {'Undernourishment_Yemen': [25.1,25.6,28.6,29,32.9,38.7],\n",
        "        'Food_Moderate_Insecurity': [45.7,49.6,46.6,46,49.4,58.5],\n",
        "        'Number_FoodAssistance_mill': [4.7,11,10,10.5,10.6,14.4],\n",
        "        'UnderNourishment_Childrenunder5': [676.000,676.000,686.400,711.900,733.200,848.600],\n",
        "\n",
        "        }\n",
        "\n",
        "\n",
        "df = pd.DataFrame(data_1)\n",
        "\n",
        "print(df)\n",
        "\n",
        "print(df)\n",
        "df.to_csv('health_indicator.csv', index=False)"
      ],
      "metadata": {
        "id": "Qum1DFawseoN",
        "colab": {
          "base_uri": "https://localhost:8080/"
        },
        "outputId": "65790d47-597a-4eab-8803-a5753e01db3c"
      },
      "execution_count": null,
      "outputs": [
        {
          "output_type": "stream",
          "name": "stdout",
          "text": [
            "   Undernourishment_Yemen  Food_Moderate_Insecurity  \\\n",
            "0                    25.1                      45.7   \n",
            "1                    25.6                      49.6   \n",
            "2                    28.6                      46.6   \n",
            "3                    29.0                      46.0   \n",
            "4                    32.9                      49.4   \n",
            "5                    38.7                      58.5   \n",
            "\n",
            "   Number_FoodAssistance_mill  UnderNourishment_Childrenunder5  \n",
            "0                         4.7                            676.0  \n",
            "1                        11.0                            676.0  \n",
            "2                        10.0                            686.4  \n",
            "3                        10.5                            711.9  \n",
            "4                        10.6                            733.2  \n",
            "5                        14.4                            848.6  \n"
          ]
        }
      ]
    },
    {
      "cell_type": "code",
      "source": [
        "import pandas as pd\n",
        "\n",
        "data_4 = {'Life_Expectancy': [67.28, 67.42,67.34, 67.54, 67.38,65.87],\n",
        "      'Mortality_Infant': [46.498,45.426,44.355,43.283,43.273,42.674],\n",
        "      'Access_CleanWater' : [45 , 43.50 ,42.50 ,41.00 ,39.50 ,37.50],\n",
        "      'Vaccine_Measles' : [72 ,70 ,68 ,65 ,61 ,57],\n",
        "\n",
        "          }\n",
        "\n",
        "df = pd.DataFrame(data_4)\n",
        "print(df)\n",
        "\n"
      ],
      "metadata": {
        "colab": {
          "base_uri": "https://localhost:8080/"
        },
        "id": "8FyDS7l_yxt8",
        "outputId": "407fc82e-02b7-4c9e-f20f-ccc1506b699b"
      },
      "execution_count": null,
      "outputs": [
        {
          "output_type": "stream",
          "name": "stdout",
          "text": [
            "   Life_Expectancy  Mortality_Infant  Access_CleanWater  Vaccine_Measles\n",
            "0            67.28            46.498               45.0               72\n",
            "1            67.42            45.426               43.5               70\n",
            "2            67.34            44.355               42.5               68\n",
            "3            67.54            43.283               41.0               65\n",
            "4            67.38            43.273               39.5               61\n",
            "5            65.87            42.674               37.5               57\n"
          ]
        }
      ]
    },
    {
      "cell_type": "code",
      "source": [
        "data_5 = {'Hunger_Fund': [200, 300 ,500, 600, 800,1000],\n",
        "      'Health_Fund': [200,300,400,500,600,800],\n",
        "          }\n",
        "\n",
        "df = pd.DataFrame(data_5)\n",
        "print(df)\n",
        "\n",
        "# Display the data frame\n",
        "print(df)\n",
        "df.to_csv('fund.csv', index=False)"
      ],
      "metadata": {
        "colab": {
          "base_uri": "https://localhost:8080/"
        },
        "id": "iDsTt3_Q8OyE",
        "outputId": "c3176cd3-23ea-481b-ee57-3a79df25ab1b"
      },
      "execution_count": 3,
      "outputs": [
        {
          "output_type": "stream",
          "name": "stdout",
          "text": [
            "   Hunger_Fund  Health_Fund\n",
            "0          200          200\n",
            "1          300          300\n",
            "2          500          400\n",
            "3          600          500\n",
            "4          800          600\n",
            "5         1000          800\n",
            "   Hunger_Fund  Health_Fund\n",
            "0          200          200\n",
            "1          300          300\n",
            "2          500          400\n",
            "3          600          500\n",
            "4          800          600\n",
            "5         1000          800\n"
          ]
        }
      ]
    }
  ]
}